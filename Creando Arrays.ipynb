{
 "cells": [
  {
   "cell_type": "markdown",
   "id": "9d6bcb1e-ed46-480a-b253-39a05d1c78c1",
   "metadata": {},
   "source": [
    "## Importar Librerías"
   ]
  },
  {
   "cell_type": "code",
   "execution_count": 7,
   "id": "8f88835c-27c6-4149-ab89-246222ccf21d",
   "metadata": {},
   "outputs": [],
   "source": [
    "import numpy as np"
   ]
  },
  {
   "cell_type": "markdown",
   "id": "107467d1-5ae6-442b-ad9e-63331c2c2a5c",
   "metadata": {},
   "source": [
    "### Crear lista de código de 0 a 10 (Esto no es un array u objeto de numpy)"
   ]
  },
  {
   "cell_type": "code",
   "execution_count": 3,
   "id": "843ac94b-5dfa-46e1-8670-8d92341a2c7d",
   "metadata": {},
   "outputs": [
    {
     "data": {
      "text/plain": [
       "[0, 1, 2, 3, 4, 5, 6, 7, 8, 9]"
      ]
     },
     "execution_count": 3,
     "metadata": {},
     "output_type": "execute_result"
    }
   ],
   "source": [
    "list(range(0,10))"
   ]
  },
  {
   "cell_type": "markdown",
   "id": "acf85e3a-f103-4f16-a5d1-f2d18a4dc9be",
   "metadata": {},
   "source": [
    "## Crear arrays desde numpy"
   ]
  },
  {
   "cell_type": "code",
   "execution_count": 9,
   "id": "1a346480-d378-4923-8f12-445e313e3be6",
   "metadata": {},
   "outputs": [
    {
     "data": {
      "text/plain": [
       "array([ 0,  2,  4,  6,  8, 10, 12, 14, 16, 18])"
      ]
     },
     "execution_count": 9,
     "metadata": {},
     "output_type": "execute_result"
    }
   ],
   "source": [
    "np.arange(0,20,2)"
   ]
  },
  {
   "cell_type": "markdown",
   "id": "8edc267b-f906-4fef-ae84-8620aa21a578",
   "metadata": {},
   "source": [
    "## Crear un array de ceros\n",
    "##### Sirve para definir esquemas previos"
   ]
  },
  {
   "cell_type": "code",
   "execution_count": 11,
   "id": "de502c12-beb9-4815-b07c-6a903e40d7c7",
   "metadata": {},
   "outputs": [
    {
     "data": {
      "text/plain": [
       "array([0., 0., 0.])"
      ]
     },
     "execution_count": 11,
     "metadata": {},
     "output_type": "execute_result"
    }
   ],
   "source": [
    "np.zeros(3)"
   ]
  },
  {
   "cell_type": "code",
   "execution_count": 12,
   "id": "b21156f1-089c-4bab-ac20-a36bb7fd6154",
   "metadata": {},
   "outputs": [
    {
     "data": {
      "text/plain": [
       "array([[0., 0., 0., 0., 0., 0., 0., 0., 0., 0.],\n",
       "       [0., 0., 0., 0., 0., 0., 0., 0., 0., 0.],\n",
       "       [0., 0., 0., 0., 0., 0., 0., 0., 0., 0.],\n",
       "       [0., 0., 0., 0., 0., 0., 0., 0., 0., 0.],\n",
       "       [0., 0., 0., 0., 0., 0., 0., 0., 0., 0.],\n",
       "       [0., 0., 0., 0., 0., 0., 0., 0., 0., 0.],\n",
       "       [0., 0., 0., 0., 0., 0., 0., 0., 0., 0.],\n",
       "       [0., 0., 0., 0., 0., 0., 0., 0., 0., 0.],\n",
       "       [0., 0., 0., 0., 0., 0., 0., 0., 0., 0.],\n",
       "       [0., 0., 0., 0., 0., 0., 0., 0., 0., 0.]])"
      ]
     },
     "execution_count": 12,
     "metadata": {},
     "output_type": "execute_result"
    }
   ],
   "source": [
    "np.zeros((10,10))"
   ]
  },
  {
   "cell_type": "markdown",
   "id": "d6c97beb-ada8-4abf-9a1a-9734c882d2f1",
   "metadata": {},
   "source": [
    "### Crear un esquema previo de unos"
   ]
  },
  {
   "cell_type": "code",
   "execution_count": 14,
   "id": "cc836b0f-895f-40e3-bacb-b95b829108e7",
   "metadata": {},
   "outputs": [
    {
     "data": {
      "text/plain": [
       "array([[1., 1., 1., 1., 1.],\n",
       "       [1., 1., 1., 1., 1.],\n",
       "       [1., 1., 1., 1., 1.],\n",
       "       [1., 1., 1., 1., 1.],\n",
       "       [1., 1., 1., 1., 1.],\n",
       "       [1., 1., 1., 1., 1.],\n",
       "       [1., 1., 1., 1., 1.],\n",
       "       [1., 1., 1., 1., 1.],\n",
       "       [1., 1., 1., 1., 1.],\n",
       "       [1., 1., 1., 1., 1.]])"
      ]
     },
     "execution_count": 14,
     "metadata": {},
     "output_type": "execute_result"
    }
   ],
   "source": [
    "np.ones((10,5))"
   ]
  },
  {
   "cell_type": "markdown",
   "id": "1d103baa-07a9-48a3-b472-d3faa213717a",
   "metadata": {},
   "source": [
    "### Crear esquema especificando desde donde inicia, hasta donde termina y cuántos datos se quiere generar"
   ]
  },
  {
   "cell_type": "code",
   "execution_count": 15,
   "id": "e3b90613-6af0-4a77-b6f7-1d93947efdbc",
   "metadata": {},
   "outputs": [
    {
     "data": {
      "text/plain": [
       "array([ 0.        ,  0.1010101 ,  0.2020202 ,  0.3030303 ,  0.4040404 ,\n",
       "        0.50505051,  0.60606061,  0.70707071,  0.80808081,  0.90909091,\n",
       "        1.01010101,  1.11111111,  1.21212121,  1.31313131,  1.41414141,\n",
       "        1.51515152,  1.61616162,  1.71717172,  1.81818182,  1.91919192,\n",
       "        2.02020202,  2.12121212,  2.22222222,  2.32323232,  2.42424242,\n",
       "        2.52525253,  2.62626263,  2.72727273,  2.82828283,  2.92929293,\n",
       "        3.03030303,  3.13131313,  3.23232323,  3.33333333,  3.43434343,\n",
       "        3.53535354,  3.63636364,  3.73737374,  3.83838384,  3.93939394,\n",
       "        4.04040404,  4.14141414,  4.24242424,  4.34343434,  4.44444444,\n",
       "        4.54545455,  4.64646465,  4.74747475,  4.84848485,  4.94949495,\n",
       "        5.05050505,  5.15151515,  5.25252525,  5.35353535,  5.45454545,\n",
       "        5.55555556,  5.65656566,  5.75757576,  5.85858586,  5.95959596,\n",
       "        6.06060606,  6.16161616,  6.26262626,  6.36363636,  6.46464646,\n",
       "        6.56565657,  6.66666667,  6.76767677,  6.86868687,  6.96969697,\n",
       "        7.07070707,  7.17171717,  7.27272727,  7.37373737,  7.47474747,\n",
       "        7.57575758,  7.67676768,  7.77777778,  7.87878788,  7.97979798,\n",
       "        8.08080808,  8.18181818,  8.28282828,  8.38383838,  8.48484848,\n",
       "        8.58585859,  8.68686869,  8.78787879,  8.88888889,  8.98989899,\n",
       "        9.09090909,  9.19191919,  9.29292929,  9.39393939,  9.49494949,\n",
       "        9.5959596 ,  9.6969697 ,  9.7979798 ,  9.8989899 , 10.        ])"
      ]
     },
     "execution_count": 15,
     "metadata": {},
     "output_type": "execute_result"
    }
   ],
   "source": [
    "np.linspace(0,10,100)"
   ]
  },
  {
   "cell_type": "markdown",
   "id": "8c30bbd4-5352-4a34-b3b9-c40519fbe8b0",
   "metadata": {},
   "source": [
    "### Función eye (Creación de una matriz con diagonal principal en 1 y el resto en 0)"
   ]
  },
  {
   "cell_type": "code",
   "execution_count": 16,
   "id": "cbc8d9dc-3bec-4ce6-b404-cf3230076662",
   "metadata": {},
   "outputs": [
    {
     "data": {
      "text/plain": [
       "array([[1., 0., 0., 0.],\n",
       "       [0., 1., 0., 0.],\n",
       "       [0., 0., 1., 0.],\n",
       "       [0., 0., 0., 1.]])"
      ]
     },
     "execution_count": 16,
     "metadata": {},
     "output_type": "execute_result"
    }
   ],
   "source": [
    "np.eye(4)"
   ]
  },
  {
   "cell_type": "markdown",
   "id": "56801181-e00b-4b19-9a5b-22597b0e1470",
   "metadata": {},
   "source": [
    "### Creación de valores aleatorios"
   ]
  },
  {
   "cell_type": "code",
   "execution_count": 18,
   "id": "27e02697-df39-4503-835d-25d61e88f085",
   "metadata": {},
   "outputs": [
    {
     "data": {
      "text/plain": [
       "0.0008974791942776283"
      ]
     },
     "execution_count": 18,
     "metadata": {},
     "output_type": "execute_result"
    }
   ],
   "source": [
    "np.random.rand()"
   ]
  },
  {
   "cell_type": "code",
   "execution_count": 19,
   "id": "b5a220cf-f29e-4976-90ec-d02666f211ad",
   "metadata": {},
   "outputs": [
    {
     "data": {
      "text/plain": [
       "array([0.47574766, 0.82957337, 0.99750607, 0.71019416])"
      ]
     },
     "execution_count": 19,
     "metadata": {},
     "output_type": "execute_result"
    }
   ],
   "source": [
    "np.random.rand(4)"
   ]
  },
  {
   "cell_type": "code",
   "execution_count": 20,
   "id": "c389e8f1-12e3-4cfb-9ee2-f8a36fb38a52",
   "metadata": {},
   "outputs": [
    {
     "data": {
      "text/plain": [
       "array([[0.37866074, 0.90156913, 0.98238763, 0.74362039],\n",
       "       [0.79251372, 0.80496407, 0.1500285 , 0.88039005],\n",
       "       [0.11073957, 0.79466983, 0.97113064, 0.92584481],\n",
       "       [0.02643018, 0.69137984, 0.11087938, 0.70983613]])"
      ]
     },
     "execution_count": 20,
     "metadata": {},
     "output_type": "execute_result"
    }
   ],
   "source": [
    "np.random.rand(4,4)"
   ]
  },
  {
   "cell_type": "markdown",
   "id": "cba97556-70b8-44a8-976a-de90ea3632ce",
   "metadata": {},
   "source": [
    "### Generar un entero aleatorio"
   ]
  },
  {
   "cell_type": "code",
   "execution_count": 24,
   "id": "41eb7bd1-ca61-4621-85a6-5e9905b513ab",
   "metadata": {},
   "outputs": [
    {
     "data": {
      "text/plain": [
       "7"
      ]
     },
     "execution_count": 24,
     "metadata": {},
     "output_type": "execute_result"
    }
   ],
   "source": [
    "np.random.randint(1,15)"
   ]
  },
  {
   "cell_type": "markdown",
   "id": "4b661258-4a34-4ca5-9e76-9eef0d7caef9",
   "metadata": {},
   "source": [
    "### Generar matrices aleatorias"
   ]
  },
  {
   "cell_type": "code",
   "execution_count": 23,
   "id": "40493b11-5b00-43fe-8e1d-dd2f7eadd35b",
   "metadata": {},
   "outputs": [
    {
     "data": {
      "text/plain": [
       "array([[ 4, 60, 14, 59, 22, 34, 14, 95, 66, 32],\n",
       "       [42, 39, 96, 50, 79,  5, 68, 85, 36, 58],\n",
       "       [67, 55, 69, 51, 57, 28, 89,  3, 48, 67],\n",
       "       [86, 91, 38,  2, 42, 41, 15,  4, 25, 81],\n",
       "       [81, 94, 65, 88, 11, 57, 45, 64, 74, 32],\n",
       "       [13, 96, 97, 51, 91, 68, 23, 69, 65, 94],\n",
       "       [24, 42, 56, 91, 99,  5, 98, 89, 80, 98],\n",
       "       [59,  2, 21, 71, 70, 82, 39, 19, 55, 91],\n",
       "       [91, 11,  4, 59, 52, 68, 21, 96, 80, 12],\n",
       "       [99, 61, 56, 22, 71, 31, 53, 62, 31, 18]])"
      ]
     },
     "execution_count": 23,
     "metadata": {},
     "output_type": "execute_result"
    }
   ],
   "source": [
    "np.random.randint(1,100,(10,10))"
   ]
  },
  {
   "cell_type": "code",
   "execution_count": null,
   "id": "f7260ecf-d297-411e-a1ce-a81406db769e",
   "metadata": {},
   "outputs": [],
   "source": []
  }
 ],
 "metadata": {
  "kernelspec": {
   "display_name": "Python 3 (ipykernel)",
   "language": "python",
   "name": "python3"
  },
  "language_info": {
   "codemirror_mode": {
    "name": "ipython",
    "version": 3
   },
   "file_extension": ".py",
   "mimetype": "text/x-python",
   "name": "python",
   "nbconvert_exporter": "python",
   "pygments_lexer": "ipython3",
   "version": "3.11.7"
  }
 },
 "nbformat": 4,
 "nbformat_minor": 5
}
