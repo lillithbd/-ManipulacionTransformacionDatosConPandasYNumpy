{
 "cells": [
  {
   "cell_type": "markdown",
   "id": "8d6d3863-33f8-40ef-bca7-570e968ebcb7",
   "metadata": {},
   "source": [
    "### Importando librerías"
   ]
  },
  {
   "cell_type": "code",
   "execution_count": 1,
   "id": "09dc7e42-5c63-4da4-ac72-a519e2ecda1c",
   "metadata": {},
   "outputs": [],
   "source": [
    "import numpy as np"
   ]
  },
  {
   "cell_type": "markdown",
   "id": "85505912-2518-4c09-8c9b-03ca7f8010b3",
   "metadata": {},
   "source": [
    "### Generar array de números aleatorios"
   ]
  },
  {
   "cell_type": "code",
   "execution_count": 2,
   "id": "6bb10dad-cfc8-43e0-80e8-9cd5c6bfcfbb",
   "metadata": {},
   "outputs": [],
   "source": [
    "arr = np.random.randint(1,10,(3,2))"
   ]
  },
  {
   "cell_type": "code",
   "execution_count": 3,
   "id": "3787c86f-75c9-4e8b-95a4-444459918f5c",
   "metadata": {},
   "outputs": [
    {
     "data": {
      "text/plain": [
       "array([[5, 1],\n",
       "       [4, 7],\n",
       "       [7, 6]])"
      ]
     },
     "execution_count": 3,
     "metadata": {},
     "output_type": "execute_result"
    }
   ],
   "source": [
    "arr"
   ]
  },
  {
   "cell_type": "markdown",
   "id": "efff0f7d-7d45-47e3-b2d1-edf6203c62ae",
   "metadata": {},
   "source": [
    "### Conocer la forma del array definido"
   ]
  },
  {
   "cell_type": "code",
   "execution_count": 4,
   "id": "686cd6a9-98c4-4e2e-a4e0-37be8ad777ab",
   "metadata": {},
   "outputs": [
    {
     "data": {
      "text/plain": [
       "(3, 2)"
      ]
     },
     "execution_count": 4,
     "metadata": {},
     "output_type": "execute_result"
    }
   ],
   "source": [
    "arr.shape"
   ]
  },
  {
   "cell_type": "markdown",
   "id": "8d9eb93d-51da-49a0-8d5e-01eb456636ba",
   "metadata": {},
   "source": [
    "### Cambiar la forma establecida de un array"
   ]
  },
  {
   "cell_type": "code",
   "execution_count": 5,
   "id": "c883df4e-7c83-4085-8aab-26cb52532492",
   "metadata": {},
   "outputs": [
    {
     "data": {
      "text/plain": [
       "array([[5, 1, 4, 7, 7, 6]])"
      ]
     },
     "execution_count": 5,
     "metadata": {},
     "output_type": "execute_result"
    }
   ],
   "source": [
    "arr.reshape(1,6)"
   ]
  },
  {
   "cell_type": "code",
   "execution_count": 6,
   "id": "3c746514-73c4-4598-8846-317171668528",
   "metadata": {},
   "outputs": [
    {
     "data": {
      "text/plain": [
       "array([[5, 1, 4],\n",
       "       [7, 7, 6]])"
      ]
     },
     "execution_count": 6,
     "metadata": {},
     "output_type": "execute_result"
    }
   ],
   "source": [
    "arr.reshape(2,3)"
   ]
  },
  {
   "cell_type": "code",
   "execution_count": 7,
   "id": "d27ecf04-168d-48ce-b4b3-6174e8f6a8a8",
   "metadata": {},
   "outputs": [
    {
     "data": {
      "text/plain": [
       "array([[5, 1, 4, 7, 7, 6]])"
      ]
     },
     "execution_count": 7,
     "metadata": {},
     "output_type": "execute_result"
    }
   ],
   "source": [
    "np.reshape(arr,(1,6))"
   ]
  },
  {
   "cell_type": "markdown",
   "id": "6f61a1dd-655b-4dc6-bc93-ed8ad25ef14e",
   "metadata": {},
   "source": [
    "### Ordenación"
   ]
  },
  {
   "cell_type": "code",
   "execution_count": 8,
   "id": "921ce583-213f-495f-8d9a-95a375c997e0",
   "metadata": {},
   "outputs": [
    {
     "data": {
      "text/plain": [
       "array([[5, 1, 4],\n",
       "       [7, 7, 6]])"
      ]
     },
     "execution_count": 8,
     "metadata": {},
     "output_type": "execute_result"
    }
   ],
   "source": [
    "np.reshape(arr, (2,3), 'C')"
   ]
  },
  {
   "cell_type": "code",
   "execution_count": 9,
   "id": "eedc55b0-cab9-4cb9-b9af-fb570e2b7150",
   "metadata": {},
   "outputs": [
    {
     "data": {
      "text/plain": [
       "array([[5, 7, 7],\n",
       "       [4, 1, 6]])"
      ]
     },
     "execution_count": 9,
     "metadata": {},
     "output_type": "execute_result"
    }
   ],
   "source": [
    "np.reshape(arr, (2,3), 'F')"
   ]
  },
  {
   "cell_type": "code",
   "execution_count": 10,
   "id": "05bb372e-1c3b-4396-8093-172a5aff83fa",
   "metadata": {},
   "outputs": [
    {
     "data": {
      "text/plain": [
       "array([[5, 1, 4],\n",
       "       [7, 7, 6]])"
      ]
     },
     "execution_count": 10,
     "metadata": {},
     "output_type": "execute_result"
    }
   ],
   "source": [
    "np.reshape(arr, (2,3), 'A')"
   ]
  },
  {
   "cell_type": "code",
   "execution_count": null,
   "id": "e7f22909-9d17-46ab-b4db-c3e7e54ec2d0",
   "metadata": {},
   "outputs": [],
   "source": []
  }
 ],
 "metadata": {
  "kernelspec": {
   "display_name": "Python 3 (ipykernel)",
   "language": "python",
   "name": "python3"
  },
  "language_info": {
   "codemirror_mode": {
    "name": "ipython",
    "version": 3
   },
   "file_extension": ".py",
   "mimetype": "text/x-python",
   "name": "python",
   "nbconvert_exporter": "python",
   "pygments_lexer": "ipython3",
   "version": "3.11.7"
  }
 },
 "nbformat": 4,
 "nbformat_minor": 5
}
