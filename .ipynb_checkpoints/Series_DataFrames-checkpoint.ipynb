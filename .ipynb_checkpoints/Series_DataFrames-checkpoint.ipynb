{
 "cells": [
  {
   "cell_type": "markdown",
   "id": "10e7d53c-c6c2-4c9f-9a5d-e87a10bc136c",
   "metadata": {},
   "source": [
    "### Importando Librerías"
   ]
  },
  {
   "cell_type": "code",
   "execution_count": 2,
   "id": "70de59cd-77ba-4295-a696-dc1c7b0b9394",
   "metadata": {},
   "outputs": [],
   "source": [
    "import pandas as pd"
   ]
  },
  {
   "cell_type": "markdown",
   "id": "c7a22889-bdad-4e0f-a382-14ecc8127609",
   "metadata": {},
   "source": [
    "#### Creación de series"
   ]
  },
  {
   "cell_type": "code",
   "execution_count": 7,
   "id": "bd1efa2b-14e1-43fc-b7d1-7dd466da6b5a",
   "metadata": {},
   "outputs": [
    {
     "data": {
      "text/plain": [
       "1      Navas\n",
       "7     Mbappe\n",
       "10    Neymar\n",
       "30     Messi\n",
       "dtype: object"
      ]
     },
     "execution_count": 7,
     "metadata": {},
     "output_type": "execute_result"
    }
   ],
   "source": [
    "psg_players = pd.Series(['Navas', 'Mbappe', 'Neymar', 'Messi'],index=[1,7,10,30])\n",
    "psg_players"
   ]
  },
  {
   "cell_type": "code",
   "execution_count": 11,
   "id": "2da89499-df7b-4991-b92f-376693e34808",
   "metadata": {},
   "outputs": [
    {
     "data": {
      "text/plain": [
       "0     Navas\n",
       "1    Mbappe\n",
       "2    Neymar\n",
       "3     Messi\n",
       "dtype: object"
      ]
     },
     "execution_count": 11,
     "metadata": {},
     "output_type": "execute_result"
    }
   ],
   "source": [
    "psg_players = pd.Series(['Navas', 'Mbappe', 'Neymar', 'Messi'])\n",
    "psg_players"
   ]
  },
  {
   "cell_type": "code",
   "execution_count": 9,
   "id": "bdbc66ba-532d-4efe-95e4-e1958e4fe374",
   "metadata": {},
   "outputs": [
    {
     "data": {
      "text/plain": [
       "1      Navas\n",
       "7     Mbappe\n",
       "10    Neymar\n",
       "30     Messi\n",
       "dtype: object"
      ]
     },
     "execution_count": 9,
     "metadata": {},
     "output_type": "execute_result"
    }
   ],
   "source": [
    "dict = {1:'Navas', 7:'Mbappe', 10:'Neymar', 30:'Messi'}\n",
    "pd.Series(dict)"
   ]
  },
  {
   "cell_type": "markdown",
   "id": "15660198-0604-429a-a531-db915e0026f9",
   "metadata": {},
   "source": [
    "#### Acceder a posición de serie"
   ]
  },
  {
   "cell_type": "code",
   "execution_count": 10,
   "id": "accb0c69-20c2-4f98-be7c-30f5c59d5365",
   "metadata": {},
   "outputs": [
    {
     "data": {
      "text/plain": [
       "'Mbappe'"
      ]
     },
     "execution_count": 10,
     "metadata": {},
     "output_type": "execute_result"
    }
   ],
   "source": [
    "psg_players[7]"
   ]
  },
  {
   "cell_type": "code",
   "execution_count": 12,
   "id": "95ecd67c-ef95-44d6-9c67-73b82bc06265",
   "metadata": {},
   "outputs": [
    {
     "data": {
      "text/plain": [
       "0     Navas\n",
       "1    Mbappe\n",
       "2    Neymar\n",
       "dtype: object"
      ]
     },
     "execution_count": 12,
     "metadata": {},
     "output_type": "execute_result"
    }
   ],
   "source": [
    "psg_players[0:3]"
   ]
  },
  {
   "cell_type": "markdown",
   "id": "44dd5c40-c1ca-481e-8762-400a8628e76c",
   "metadata": {},
   "source": [
    "#### Definiendo un DataFrame"
   ]
  },
  {
   "cell_type": "code",
   "execution_count": 15,
   "id": "310678c9-f669-45d6-b491-57e2cb2c4c26",
   "metadata": {},
   "outputs": [],
   "source": [
    "dict = {'Jugador': ['Navas','Mbappe','Neymar','Messi'],\n",
    "'Altura': [183.0, 170.0, 170.0, 165.0],\n",
    " 'Goles': [2,200,200,200]}"
   ]
  },
  {
   "cell_type": "code",
   "execution_count": 24,
   "id": "a44a3940-105f-4a9c-91da-0f3f28712030",
   "metadata": {},
   "outputs": [
    {
     "data": {
      "text/html": [
       "<div>\n",
       "<style scoped>\n",
       "    .dataframe tbody tr th:only-of-type {\n",
       "        vertical-align: middle;\n",
       "    }\n",
       "\n",
       "    .dataframe tbody tr th {\n",
       "        vertical-align: top;\n",
       "    }\n",
       "\n",
       "    .dataframe thead th {\n",
       "        text-align: right;\n",
       "    }\n",
       "</style>\n",
       "<table border=\"1\" class=\"dataframe\">\n",
       "  <thead>\n",
       "    <tr style=\"text-align: right;\">\n",
       "      <th></th>\n",
       "      <th>Jugador</th>\n",
       "      <th>Altura</th>\n",
       "      <th>Goles</th>\n",
       "    </tr>\n",
       "  </thead>\n",
       "  <tbody>\n",
       "    <tr>\n",
       "      <th>0</th>\n",
       "      <td>Navas</td>\n",
       "      <td>183.0</td>\n",
       "      <td>2</td>\n",
       "    </tr>\n",
       "    <tr>\n",
       "      <th>1</th>\n",
       "      <td>Mbappe</td>\n",
       "      <td>170.0</td>\n",
       "      <td>200</td>\n",
       "    </tr>\n",
       "    <tr>\n",
       "      <th>2</th>\n",
       "      <td>Neymar</td>\n",
       "      <td>170.0</td>\n",
       "      <td>200</td>\n",
       "    </tr>\n",
       "    <tr>\n",
       "      <th>3</th>\n",
       "      <td>Messi</td>\n",
       "      <td>165.0</td>\n",
       "      <td>200</td>\n",
       "    </tr>\n",
       "  </tbody>\n",
       "</table>\n",
       "</div>"
      ],
      "text/plain": [
       "  Jugador  Altura  Goles\n",
       "0   Navas   183.0      2\n",
       "1  Mbappe   170.0    200\n",
       "2  Neymar   170.0    200\n",
       "3   Messi   165.0    200"
      ]
     },
     "execution_count": 24,
     "metadata": {},
     "output_type": "execute_result"
    }
   ],
   "source": [
    "df_Players = pd.DataFrame(dict)\n",
    "df_Players"
   ]
  },
  {
   "cell_type": "code",
   "execution_count": 26,
   "id": "b4b52e45-fff4-4465-841f-7f2ee5c7ebc3",
   "metadata": {},
   "outputs": [
    {
     "data": {
      "text/plain": [
       "Index(['Jugador', 'Altura', 'Goles'], dtype='object')"
      ]
     },
     "execution_count": 26,
     "metadata": {},
     "output_type": "execute_result"
    }
   ],
   "source": [
    "df_Players.columns"
   ]
  },
  {
   "cell_type": "code",
   "execution_count": 27,
   "id": "c4c5f771-a538-42c3-8bba-6c422296cd46",
   "metadata": {},
   "outputs": [
    {
     "data": {
      "text/plain": [
       "RangeIndex(start=0, stop=4, step=1)"
      ]
     },
     "execution_count": 27,
     "metadata": {},
     "output_type": "execute_result"
    }
   ],
   "source": [
    "df_Players.index"
   ]
  },
  {
   "cell_type": "code",
   "execution_count": null,
   "id": "3f175ae8-3e2c-4f66-9453-a665e455d055",
   "metadata": {},
   "outputs": [],
   "source": []
  }
 ],
 "metadata": {
  "kernelspec": {
   "display_name": "Python 3 (ipykernel)",
   "language": "python",
   "name": "python3"
  },
  "language_info": {
   "codemirror_mode": {
    "name": "ipython",
    "version": 3
   },
   "file_extension": ".py",
   "mimetype": "text/x-python",
   "name": "python",
   "nbconvert_exporter": "python",
   "pygments_lexer": "ipython3",
   "version": "3.11.7"
  }
 },
 "nbformat": 4,
 "nbformat_minor": 5
}
