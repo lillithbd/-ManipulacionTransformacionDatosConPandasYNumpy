{
 "cells": [
  {
   "cell_type": "markdown",
   "id": "03e3e304-5278-45ac-9f8f-22dccd7323c3",
   "metadata": {},
   "source": [
    "### Importando librería"
   ]
  },
  {
   "cell_type": "code",
   "execution_count": 1,
   "id": "5df53532-9207-48b9-8ec8-1c403b7a8e6d",
   "metadata": {},
   "outputs": [],
   "source": [
    "import numpy as np"
   ]
  },
  {
   "cell_type": "markdown",
   "id": "be48bb76-2d2e-4e5c-a295-e0b55c9d414a",
   "metadata": {},
   "source": [
    "### Definir vector de números aleatorios"
   ]
  },
  {
   "cell_type": "code",
   "execution_count": 2,
   "id": "a77a1b50-edae-4bc3-9129-1bb0f6ffd4df",
   "metadata": {},
   "outputs": [],
   "source": [
    "arr = np.random.randint(1,20,10)"
   ]
  },
  {
   "cell_type": "code",
   "execution_count": 3,
   "id": "eb720233-dcd5-4ffb-9b2a-577c45629009",
   "metadata": {},
   "outputs": [
    {
     "data": {
      "text/plain": [
       "array([ 6,  1,  6,  6, 18,  7, 11,  1,  6, 14])"
      ]
     },
     "execution_count": 3,
     "metadata": {},
     "output_type": "execute_result"
    }
   ],
   "source": [
    "arr"
   ]
  },
  {
   "cell_type": "markdown",
   "id": "11acde34-c29c-4cb1-ae80-68f657918a38",
   "metadata": {},
   "source": [
    "### Crear una estructura matricial "
   ]
  },
  {
   "cell_type": "code",
   "execution_count": 4,
   "id": "7b7ee898-8943-46b6-ba96-49ed081f1088",
   "metadata": {},
   "outputs": [
    {
     "data": {
      "text/plain": [
       "array([[ 6,  1,  6,  6, 18],\n",
       "       [ 7, 11,  1,  6, 14]])"
      ]
     },
     "execution_count": 4,
     "metadata": {},
     "output_type": "execute_result"
    }
   ],
   "source": [
    "matriz = arr.reshape(2,5)\n",
    "matriz"
   ]
  },
  {
   "cell_type": "markdown",
   "id": "4dba0dfb-b335-46fa-8357-405dc661089d",
   "metadata": {},
   "source": [
    "### Traer el número más grande que tenga el array y la matriz"
   ]
  },
  {
   "cell_type": "code",
   "execution_count": 5,
   "id": "dd7bb9c3-9434-4d23-8c99-463673d28397",
   "metadata": {},
   "outputs": [
    {
     "data": {
      "text/plain": [
       "18"
      ]
     },
     "execution_count": 5,
     "metadata": {},
     "output_type": "execute_result"
    }
   ],
   "source": [
    "arr.max()"
   ]
  },
  {
   "cell_type": "code",
   "execution_count": 6,
   "id": "dcfeeccf-da1f-4ace-849d-2a25eec6fe46",
   "metadata": {},
   "outputs": [
    {
     "data": {
      "text/plain": [
       "18"
      ]
     },
     "execution_count": 6,
     "metadata": {},
     "output_type": "execute_result"
    }
   ],
   "source": [
    "matriz.max()"
   ]
  },
  {
   "cell_type": "markdown",
   "id": "cb15c1f2-33f6-4f61-97a9-c4c10373edbd",
   "metadata": {},
   "source": [
    "### Especificar el eje en el que se debe buscar el número mayor\n",
    "##### Para este caso busca los números mayores por fila"
   ]
  },
  {
   "cell_type": "code",
   "execution_count": 7,
   "id": "cc1b6ee8-5be9-4177-a0c8-c3e72702470b",
   "metadata": {},
   "outputs": [
    {
     "data": {
      "text/plain": [
       "array([18, 14])"
      ]
     },
     "execution_count": 7,
     "metadata": {},
     "output_type": "execute_result"
    }
   ],
   "source": [
    "matriz.max(1)"
   ]
  },
  {
   "cell_type": "markdown",
   "id": "a94cf64e-5288-464e-a74e-31fa8b1d5e68",
   "metadata": {},
   "source": [
    "##### Para este caso busca los números mayores por fila"
   ]
  },
  {
   "cell_type": "code",
   "execution_count": 8,
   "id": "7f3a1545-6bd5-40c5-9fd7-01b3fea787aa",
   "metadata": {},
   "outputs": [
    {
     "data": {
      "text/plain": [
       "array([ 7, 11,  6,  6, 18])"
      ]
     },
     "execution_count": 8,
     "metadata": {},
     "output_type": "execute_result"
    }
   ],
   "source": [
    "matriz.max(0)"
   ]
  },
  {
   "cell_type": "markdown",
   "id": "5afd0a30-bf96-42a0-baa5-c0b2ad1b304b",
   "metadata": {},
   "source": [
    "##### Indice en donde se encuentra el valor más grande"
   ]
  },
  {
   "cell_type": "code",
   "execution_count": 9,
   "id": "962d77e2-0174-486f-98df-9641ca72732c",
   "metadata": {},
   "outputs": [
    {
     "data": {
      "text/plain": [
       "4"
      ]
     },
     "execution_count": 9,
     "metadata": {},
     "output_type": "execute_result"
    }
   ],
   "source": [
    "arr.argmax()"
   ]
  },
  {
   "cell_type": "code",
   "execution_count": 10,
   "id": "7195f81a-0cd7-405b-8a87-b462cc16de2d",
   "metadata": {},
   "outputs": [
    {
     "data": {
      "text/plain": [
       "4"
      ]
     },
     "execution_count": 10,
     "metadata": {},
     "output_type": "execute_result"
    }
   ],
   "source": [
    "matriz.argmax()"
   ]
  },
  {
   "cell_type": "markdown",
   "id": "22fa5d4a-4924-4759-8a6b-cb3309b9b867",
   "metadata": {},
   "source": [
    "##### Indice donde se encuentra el número mayor  por fila"
   ]
  },
  {
   "cell_type": "code",
   "execution_count": 11,
   "id": "0c650caf-4ed1-4962-97c3-1375399d2603",
   "metadata": {},
   "outputs": [
    {
     "data": {
      "text/plain": [
       "array([1, 1, 0, 0, 0], dtype=int64)"
      ]
     },
     "execution_count": 11,
     "metadata": {},
     "output_type": "execute_result"
    }
   ],
   "source": [
    "matriz.argmax(0)"
   ]
  },
  {
   "cell_type": "markdown",
   "id": "c7127cf9-4527-4de1-b452-704606d82e95",
   "metadata": {},
   "source": [
    "### Traer el número más pequeño que tenga el array y la matriz"
   ]
  },
  {
   "cell_type": "code",
   "execution_count": 12,
   "id": "1812f3f1-01ff-4ff7-8d47-d0a9ed9de9dd",
   "metadata": {},
   "outputs": [
    {
     "data": {
      "text/plain": [
       "1"
      ]
     },
     "execution_count": 12,
     "metadata": {},
     "output_type": "execute_result"
    }
   ],
   "source": [
    "arr.min()"
   ]
  },
  {
   "cell_type": "code",
   "execution_count": 15,
   "id": "d4ebd077-2d99-4c2d-aef2-805f321d2579",
   "metadata": {},
   "outputs": [
    {
     "data": {
      "text/plain": [
       "1"
      ]
     },
     "execution_count": 15,
     "metadata": {},
     "output_type": "execute_result"
    }
   ],
   "source": [
    "matriz.min()"
   ]
  },
  {
   "cell_type": "markdown",
   "id": "136c84eb-6963-48c9-99a1-339c5cf4bb33",
   "metadata": {},
   "source": [
    "##### Para este caso busca los números menores por fila"
   ]
  },
  {
   "cell_type": "code",
   "execution_count": 16,
   "id": "5fded01c-ca22-407d-ad66-b09a27ece766",
   "metadata": {},
   "outputs": [
    {
     "data": {
      "text/plain": [
       "array([ 6,  1,  1,  6, 14])"
      ]
     },
     "execution_count": 16,
     "metadata": {},
     "output_type": "execute_result"
    }
   ],
   "source": [
    "matriz.min(0)"
   ]
  },
  {
   "cell_type": "markdown",
   "id": "4cfb9e7e-c67d-474b-b3dc-bf2e7662bc2a",
   "metadata": {},
   "source": [
    "##### Indice en donde se encuentra el valor más pequeño"
   ]
  },
  {
   "cell_type": "code",
   "execution_count": 17,
   "id": "aa9a79de-f030-48bf-9e0c-766c85753210",
   "metadata": {},
   "outputs": [
    {
     "data": {
      "text/plain": [
       "1"
      ]
     },
     "execution_count": 17,
     "metadata": {},
     "output_type": "execute_result"
    }
   ],
   "source": [
    "arr.argmin()"
   ]
  },
  {
   "cell_type": "code",
   "execution_count": 18,
   "id": "f95bfe2d-4b47-4579-9d4a-c5038c76818b",
   "metadata": {},
   "outputs": [
    {
     "data": {
      "text/plain": [
       "1"
      ]
     },
     "execution_count": 18,
     "metadata": {},
     "output_type": "execute_result"
    }
   ],
   "source": [
    "matriz.argmin()"
   ]
  },
  {
   "cell_type": "markdown",
   "id": "7c885215-3e0b-4de7-9956-c840af93460e",
   "metadata": {},
   "source": [
    "##### Indice donde se encuentra el número menor  por fila"
   ]
  },
  {
   "cell_type": "code",
   "execution_count": 19,
   "id": "faaceaf1-b692-4294-bf22-ab4cfd78be72",
   "metadata": {},
   "outputs": [
    {
     "data": {
      "text/plain": [
       "array([1, 2], dtype=int64)"
      ]
     },
     "execution_count": 19,
     "metadata": {},
     "output_type": "execute_result"
    }
   ],
   "source": [
    "matriz.argmin(1)"
   ]
  },
  {
   "cell_type": "markdown",
   "id": "ad317de9-da76-4671-8ca3-38b0fa492716",
   "metadata": {},
   "source": [
    "### Pick to Pick - Diferencia entre el valor mayor y menor"
   ]
  },
  {
   "cell_type": "code",
   "execution_count": 20,
   "id": "b6731f25-19a8-4eb5-abb2-b68fc8a7f1f1",
   "metadata": {},
   "outputs": [
    {
     "data": {
      "text/plain": [
       "array([ 6,  1,  6,  6, 18,  7, 11,  1,  6, 14])"
      ]
     },
     "execution_count": 20,
     "metadata": {},
     "output_type": "execute_result"
    }
   ],
   "source": [
    "arr"
   ]
  },
  {
   "cell_type": "code",
   "execution_count": 24,
   "id": "c3448234-a234-467f-9ea6-2d72ef69b492",
   "metadata": {},
   "outputs": [
    {
     "data": {
      "text/plain": [
       "array([[ 6,  1,  6,  6, 18],\n",
       "       [ 7, 11,  1,  6, 14]])"
      ]
     },
     "execution_count": 24,
     "metadata": {},
     "output_type": "execute_result"
    }
   ],
   "source": [
    "matriz"
   ]
  },
  {
   "cell_type": "code",
   "execution_count": 21,
   "id": "e573a2ae-81f1-48df-89cf-991bae94b1bb",
   "metadata": {},
   "outputs": [
    {
     "data": {
      "text/plain": [
       "17"
      ]
     },
     "execution_count": 21,
     "metadata": {},
     "output_type": "execute_result"
    }
   ],
   "source": [
    "arr.ptp()"
   ]
  },
  {
   "cell_type": "code",
   "execution_count": 23,
   "id": "a0cdfd0e-1850-4d73-bbd7-8b542d6aabdc",
   "metadata": {},
   "outputs": [
    {
     "data": {
      "text/plain": [
       "array([ 1, 10,  5,  0,  4])"
      ]
     },
     "execution_count": 23,
     "metadata": {},
     "output_type": "execute_result"
    }
   ],
   "source": [
    "matriz.ptp(0)"
   ]
  },
  {
   "cell_type": "markdown",
   "id": "cc30699c-924b-4ca5-9f67-2deceed9a640",
   "metadata": {},
   "source": [
    "### Percentil 50 (Valor que se encuentra en la mitad)"
   ]
  },
  {
   "cell_type": "code",
   "execution_count": 25,
   "id": "1e7b6ca8-a7a8-41ea-b2c6-c7d39f0f4d5e",
   "metadata": {},
   "outputs": [
    {
     "data": {
      "text/plain": [
       "6.0"
      ]
     },
     "execution_count": 25,
     "metadata": {},
     "output_type": "execute_result"
    }
   ],
   "source": [
    "np.percentile(arr,50)"
   ]
  },
  {
   "cell_type": "markdown",
   "id": "cd0fb8ff-5fba-41b9-afc4-32fa0572718d",
   "metadata": {},
   "source": [
    "### Sort"
   ]
  },
  {
   "cell_type": "code",
   "execution_count": 26,
   "id": "ed5955fb-b3fe-46c6-ae74-8cad5e7df665",
   "metadata": {},
   "outputs": [
    {
     "data": {
      "text/plain": [
       "array([ 1,  1,  6,  6,  6,  6,  7, 11, 14, 18])"
      ]
     },
     "execution_count": 26,
     "metadata": {},
     "output_type": "execute_result"
    }
   ],
   "source": [
    "arr.sort()\n",
    "arr"
   ]
  },
  {
   "cell_type": "markdown",
   "id": "826df1f5-b3e8-4aaa-9b88-e95028f163b0",
   "metadata": {},
   "source": [
    "### Mediana (Percentil 50, donde se ubica la mitad de mi array)"
   ]
  },
  {
   "cell_type": "code",
   "execution_count": 27,
   "id": "6b797132-d680-491b-99f3-dbf8f104b283",
   "metadata": {},
   "outputs": [
    {
     "data": {
      "text/plain": [
       "6.0"
      ]
     },
     "execution_count": 27,
     "metadata": {},
     "output_type": "execute_result"
    }
   ],
   "source": [
    "np.median(arr)"
   ]
  },
  {
   "cell_type": "code",
   "execution_count": 28,
   "id": "f15a73ba-2ef0-4ecf-b5c6-40790db77116",
   "metadata": {},
   "outputs": [
    {
     "data": {
      "text/plain": [
       "array([ 6., 11.])"
      ]
     },
     "execution_count": 28,
     "metadata": {},
     "output_type": "execute_result"
    }
   ],
   "source": [
    "np.median(matriz,1)"
   ]
  },
  {
   "cell_type": "markdown",
   "id": "543be51e-ee3f-46ae-9942-397778d1aa9d",
   "metadata": {},
   "source": [
    "### STD - Desviación Estándar"
   ]
  },
  {
   "cell_type": "code",
   "execution_count": 31,
   "id": "17676376-9718-40cc-8d3a-32f51bd0a116",
   "metadata": {},
   "outputs": [
    {
     "data": {
      "text/plain": [
       "25.84"
      ]
     },
     "execution_count": 31,
     "metadata": {},
     "output_type": "execute_result"
    }
   ],
   "source": [
    "np.std(arr) ** 2"
   ]
  },
  {
   "cell_type": "markdown",
   "id": "ee0af24f-cff8-4ffd-be80-17f90788886e",
   "metadata": {},
   "source": [
    "### Varianza"
   ]
  },
  {
   "cell_type": "code",
   "execution_count": 30,
   "id": "8dd6a9cf-2cf2-4c18-8815-f324f9526052",
   "metadata": {},
   "outputs": [
    {
     "data": {
      "text/plain": [
       "25.839999999999996"
      ]
     },
     "execution_count": 30,
     "metadata": {},
     "output_type": "execute_result"
    }
   ],
   "source": [
    "np.var(arr)"
   ]
  },
  {
   "cell_type": "markdown",
   "id": "05c3a1d2-665c-40d8-b86b-42adcbec0b20",
   "metadata": {},
   "source": [
    "##### La desviación estandar elevada al cuadrado es igual a la varianza"
   ]
  },
  {
   "cell_type": "markdown",
   "id": "509f4f8c-f252-4178-a6e0-f94fb897e4de",
   "metadata": {},
   "source": [
    "### Media (Suma de todos los valores del array dividido por la cantidad de valores)"
   ]
  },
  {
   "cell_type": "code",
   "execution_count": 34,
   "id": "7563c3e0-e3c4-40ad-b3fc-e8c62065e1c7",
   "metadata": {},
   "outputs": [
    {
     "data": {
      "text/plain": [
       "7.6"
      ]
     },
     "execution_count": 34,
     "metadata": {},
     "output_type": "execute_result"
    }
   ],
   "source": [
    "np.mean(arr)"
   ]
  },
  {
   "cell_type": "markdown",
   "id": "a3824237-cb5d-466f-a2f6-8613e721e371",
   "metadata": {},
   "source": [
    "### Concatenar"
   ]
  },
  {
   "cell_type": "code",
   "execution_count": 40,
   "id": "4c5e4572-f05a-48a1-a268-0b40a9bb4927",
   "metadata": {},
   "outputs": [
    {
     "data": {
      "text/plain": [
       "array([[1, 2],\n",
       "       [3, 4]])"
      ]
     },
     "execution_count": 40,
     "metadata": {},
     "output_type": "execute_result"
    }
   ],
   "source": [
    "a = np.array([[1,2],[3,4]])\n",
    "b = np.array([5,6])\n",
    "a"
   ]
  },
  {
   "cell_type": "code",
   "execution_count": 41,
   "id": "59c1a499-6ffa-4836-9636-53768f4262d8",
   "metadata": {},
   "outputs": [
    {
     "data": {
      "text/plain": [
       "array([5, 6])"
      ]
     },
     "execution_count": 41,
     "metadata": {},
     "output_type": "execute_result"
    }
   ],
   "source": [
    "b"
   ]
  },
  {
   "cell_type": "code",
   "execution_count": 42,
   "id": "e750d4a2-1fdf-4a1d-be7e-6d399076c3fe",
   "metadata": {},
   "outputs": [
    {
     "ename": "ValueError",
     "evalue": "all the input arrays must have same number of dimensions, but the array at index 0 has 2 dimension(s) and the array at index 1 has 1 dimension(s)",
     "output_type": "error",
     "traceback": [
      "\u001b[1;31m---------------------------------------------------------------------------\u001b[0m",
      "\u001b[1;31mValueError\u001b[0m                                Traceback (most recent call last)",
      "Cell \u001b[1;32mIn[42], line 1\u001b[0m\n\u001b[1;32m----> 1\u001b[0m np\u001b[38;5;241m.\u001b[39mconcatenate((a,b), axis \u001b[38;5;241m=\u001b[39m \u001b[38;5;241m0\u001b[39m)\n",
      "\u001b[1;31mValueError\u001b[0m: all the input arrays must have same number of dimensions, but the array at index 0 has 2 dimension(s) and the array at index 1 has 1 dimension(s)"
     ]
    }
   ],
   "source": [
    "np.concatenate((a,b), axis = 0)"
   ]
  },
  {
   "cell_type": "markdown",
   "id": "73c7631c-bfa4-47f4-8639-f1a4f9568a5a",
   "metadata": {},
   "source": [
    "##### Esto genera error porque los arrays deben ser de la misma dimensión"
   ]
  },
  {
   "cell_type": "code",
   "execution_count": 44,
   "id": "93da15e6-845e-48b6-847b-29c56970c322",
   "metadata": {},
   "outputs": [
    {
     "data": {
      "text/plain": [
       "2"
      ]
     },
     "execution_count": 44,
     "metadata": {},
     "output_type": "execute_result"
    }
   ],
   "source": [
    "a.ndim"
   ]
  },
  {
   "cell_type": "code",
   "execution_count": 45,
   "id": "e48011df-7ca4-419e-83b4-32c4d6e4f6c4",
   "metadata": {},
   "outputs": [
    {
     "data": {
      "text/plain": [
       "1"
      ]
     },
     "execution_count": 45,
     "metadata": {},
     "output_type": "execute_result"
    }
   ],
   "source": [
    "b.ndim"
   ]
  },
  {
   "cell_type": "markdown",
   "id": "e27ff7cf-5353-4b31-ae28-3148e22555d5",
   "metadata": {},
   "source": [
    "##### Expandir la dimensión de b por el axis 0 (por el que ibamos a concatenar)"
   ]
  },
  {
   "cell_type": "code",
   "execution_count": 47,
   "id": "d55a37b6-3676-4797-acb3-a3d0dabf6dc0",
   "metadata": {},
   "outputs": [
    {
     "data": {
      "text/plain": [
       "array([[5, 6]])"
      ]
     },
     "execution_count": 47,
     "metadata": {},
     "output_type": "execute_result"
    }
   ],
   "source": [
    "b = np.expand_dims(b,axis=0)\n",
    "b"
   ]
  },
  {
   "cell_type": "code",
   "execution_count": 48,
   "id": "74993515-75fb-4c52-86e3-3957cbfa55e7",
   "metadata": {},
   "outputs": [
    {
     "data": {
      "text/plain": [
       "array([[1, 2],\n",
       "       [3, 4],\n",
       "       [5, 6]])"
      ]
     },
     "execution_count": 48,
     "metadata": {},
     "output_type": "execute_result"
    }
   ],
   "source": [
    "np.concatenate((a,b),axis = 0)"
   ]
  },
  {
   "cell_type": "code",
   "execution_count": 49,
   "id": "130b36ae-7898-4824-ae66-98bfb5f42a76",
   "metadata": {},
   "outputs": [
    {
     "ename": "ValueError",
     "evalue": "all the input array dimensions except for the concatenation axis must match exactly, but along dimension 0, the array at index 0 has size 2 and the array at index 1 has size 1",
     "output_type": "error",
     "traceback": [
      "\u001b[1;31m---------------------------------------------------------------------------\u001b[0m",
      "\u001b[1;31mValueError\u001b[0m                                Traceback (most recent call last)",
      "Cell \u001b[1;32mIn[49], line 1\u001b[0m\n\u001b[1;32m----> 1\u001b[0m np\u001b[38;5;241m.\u001b[39mconcatenate((a,b),axis \u001b[38;5;241m=\u001b[39m \u001b[38;5;241m1\u001b[39m)\n",
      "\u001b[1;31mValueError\u001b[0m: all the input array dimensions except for the concatenation axis must match exactly, but along dimension 0, the array at index 0 has size 2 and the array at index 1 has size 1"
     ]
    }
   ],
   "source": [
    "np.concatenate((a,b),axis = 1)"
   ]
  },
  {
   "cell_type": "markdown",
   "id": "90631b07-b304-4173-9f9b-50a22b8eb841",
   "metadata": {},
   "source": [
    "##### Esto genera error porque b está a manera de fila, no de columna "
   ]
  },
  {
   "cell_type": "markdown",
   "id": "10aaa137-ef81-4e1f-98e9-a88591174993",
   "metadata": {},
   "source": [
    "##### Para arreglar esto hacemos un reshape. Debemos utilizar una transpuesta (cambia de forma)"
   ]
  },
  {
   "cell_type": "code",
   "execution_count": 50,
   "id": "c316607f-7353-46f1-91cb-c79dcf681072",
   "metadata": {},
   "outputs": [
    {
     "data": {
      "text/plain": [
       "array([[1, 2, 5],\n",
       "       [3, 4, 6]])"
      ]
     },
     "execution_count": 50,
     "metadata": {},
     "output_type": "execute_result"
    }
   ],
   "source": [
    "np.concatenate((a,b.T),axis = 1)"
   ]
  },
  {
   "cell_type": "code",
   "execution_count": null,
   "id": "90a1a797-f8b6-422d-93a4-c759af3cbab1",
   "metadata": {},
   "outputs": [],
   "source": []
  }
 ],
 "metadata": {
  "kernelspec": {
   "display_name": "Python 3 (ipykernel)",
   "language": "python",
   "name": "python3"
  },
  "language_info": {
   "codemirror_mode": {
    "name": "ipython",
    "version": 3
   },
   "file_extension": ".py",
   "mimetype": "text/x-python",
   "name": "python",
   "nbconvert_exporter": "python",
   "pygments_lexer": "ipython3",
   "version": "3.11.7"
  }
 },
 "nbformat": 4,
 "nbformat_minor": 5
}
