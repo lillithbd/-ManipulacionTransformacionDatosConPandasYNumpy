{
 "cells": [
  {
   "cell_type": "markdown",
   "id": "43e9695e-5a2d-4a53-83ec-bec00fce4608",
   "metadata": {},
   "source": [
    "### Importando Librerías"
   ]
  },
  {
   "cell_type": "code",
   "execution_count": 1,
   "id": "b026c668-5c0a-4e99-8d84-47b969fd3839",
   "metadata": {},
   "outputs": [],
   "source": [
    "import numpy as np"
   ]
  },
  {
   "cell_type": "markdown",
   "id": "33741fa0-bfdc-445b-a572-a43802658b1c",
   "metadata": {},
   "source": [
    "### Creación de Array"
   ]
  },
  {
   "cell_type": "code",
   "execution_count": 3,
   "id": "47a87ef4-1d77-40c9-997d-b5b08e9eca6d",
   "metadata": {},
   "outputs": [
    {
     "data": {
      "text/plain": [
       "array([ 0,  1,  2,  3,  4,  5,  6,  7,  8,  9, 10])"
      ]
     },
     "execution_count": 3,
     "metadata": {},
     "output_type": "execute_result"
    }
   ],
   "source": [
    "arr = np.arange(0,11)\n",
    "arr"
   ]
  },
  {
   "cell_type": "markdown",
   "id": "bd7a8ba3-7d69-4517-aee8-483788415c81",
   "metadata": {},
   "source": [
    "### Extraeremos unas posiciones del array original"
   ]
  },
  {
   "cell_type": "code",
   "execution_count": 6,
   "id": "612cc292-b47b-48e2-854d-305ac071931d",
   "metadata": {},
   "outputs": [
    {
     "data": {
      "text/plain": [
       "array([0, 1, 2, 3, 4, 5])"
      ]
     },
     "execution_count": 6,
     "metadata": {},
     "output_type": "execute_result"
    }
   ],
   "source": [
    "trozo_de_arr = arr[0:6]\n",
    "trozo_de_arr"
   ]
  },
  {
   "cell_type": "markdown",
   "id": "bbeaeba4-2b89-4142-b0a3-2b1310c39be7",
   "metadata": {},
   "source": [
    "### Hacemos cambios al array"
   ]
  },
  {
   "cell_type": "code",
   "execution_count": 7,
   "id": "a829ba74-f94d-4c0d-b83a-08f987abd6b8",
   "metadata": {},
   "outputs": [
    {
     "data": {
      "text/plain": [
       "array([0, 0, 0, 0, 0, 0])"
      ]
     },
     "execution_count": 7,
     "metadata": {},
     "output_type": "execute_result"
    }
   ],
   "source": [
    "trozo_de_arr[:] = 0\n",
    "trozo_de_arr"
   ]
  },
  {
   "cell_type": "markdown",
   "id": "848f5f0b-4591-40b5-9ef6-cad40e2c54c5",
   "metadata": {},
   "source": [
    "##### Vemos que el cambio afectó al array original"
   ]
  },
  {
   "cell_type": "code",
   "execution_count": 8,
   "id": "3d5ffdaa-ff3a-4750-befd-120d15f33d2b",
   "metadata": {},
   "outputs": [
    {
     "data": {
      "text/plain": [
       "array([ 0,  0,  0,  0,  0,  0,  6,  7,  8,  9, 10])"
      ]
     },
     "execution_count": 8,
     "metadata": {},
     "output_type": "execute_result"
    }
   ],
   "source": [
    "arr"
   ]
  },
  {
   "cell_type": "markdown",
   "id": "86f6e56f-4991-4906-9e61-deab8f05c7ca",
   "metadata": {},
   "source": [
    "### Para solucionar esto copiamos el array"
   ]
  },
  {
   "cell_type": "code",
   "execution_count": 15,
   "id": "f09821f2-378c-4b61-8391-68cc1172a0f1",
   "metadata": {},
   "outputs": [
    {
     "data": {
      "text/plain": [
       "array([ 0,  0,  0,  0,  0,  0,  6,  7,  8,  9, 10])"
      ]
     },
     "execution_count": 15,
     "metadata": {},
     "output_type": "execute_result"
    }
   ],
   "source": [
    "arr_copy = arr.copy()\n",
    "arr_copy"
   ]
  },
  {
   "cell_type": "markdown",
   "id": "83138ba0-6f4a-4718-97db-a68f7c6190c5",
   "metadata": {},
   "source": [
    "##### Hacemos cambios al arr_copy"
   ]
  },
  {
   "cell_type": "code",
   "execution_count": 17,
   "id": "be05cc15-2a0f-43b3-b28b-a7ec285d3a0d",
   "metadata": {},
   "outputs": [],
   "source": [
    "arr_copy[:] = 100"
   ]
  },
  {
   "cell_type": "code",
   "execution_count": 18,
   "id": "eff0a66e-e6c7-433e-8a17-6a1df7e59416",
   "metadata": {},
   "outputs": [
    {
     "data": {
      "text/plain": [
       "array([100, 100, 100, 100, 100, 100, 100, 100, 100, 100, 100])"
      ]
     },
     "execution_count": 18,
     "metadata": {},
     "output_type": "execute_result"
    }
   ],
   "source": [
    "arr_copy"
   ]
  },
  {
   "cell_type": "markdown",
   "id": "cfe45d34-db3b-4abe-aae5-21440c30d154",
   "metadata": {},
   "source": [
    "##### Validamos que el array original no se haya cambiado"
   ]
  },
  {
   "cell_type": "code",
   "execution_count": 19,
   "id": "de57ae3d-0c91-45c9-873b-c401f338bf91",
   "metadata": {},
   "outputs": [
    {
     "data": {
      "text/plain": [
       "array([ 0,  0,  0,  0,  0,  0,  6,  7,  8,  9, 10])"
      ]
     },
     "execution_count": 19,
     "metadata": {},
     "output_type": "execute_result"
    }
   ],
   "source": [
    "arr"
   ]
  },
  {
   "cell_type": "code",
   "execution_count": null,
   "id": "4fbdc8a2-2e23-4ad2-a7a9-1ded702c6ca5",
   "metadata": {},
   "outputs": [],
   "source": []
  }
 ],
 "metadata": {
  "kernelspec": {
   "display_name": "Python 3 (ipykernel)",
   "language": "python",
   "name": "python3"
  },
  "language_info": {
   "codemirror_mode": {
    "name": "ipython",
    "version": 3
   },
   "file_extension": ".py",
   "mimetype": "text/x-python",
   "name": "python",
   "nbconvert_exporter": "python",
   "pygments_lexer": "ipython3",
   "version": "3.11.7"
  }
 },
 "nbformat": 4,
 "nbformat_minor": 5
}
